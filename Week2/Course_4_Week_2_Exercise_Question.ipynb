{
  "nbformat": 4,
  "nbformat_minor": 0,
  "metadata": {
    "colab": {
      "name": "Course 4 - Week 2 - Exercise - Question.ipynb",
      "version": "0.3.2",
      "provenance": []
    },
    "kernelspec": {
      "name": "python3",
      "display_name": "Python 3"
    },
    "accelerator": "GPU"
  },
  "cells": [
    {
      "cell_type": "code",
      "metadata": {
        "id": "gnwiOnGyW5JK",
        "colab_type": "code",
        "colab": {
          "base_uri": "https://localhost:8080/",
          "height": 204
        },
        "outputId": "75d151b8-5b14-4ff1-98f3-fd885aa00dfc"
      },
      "source": [
        "import csv\n",
        "import tensorflow as tf\n",
        "import numpy as np\n",
        "from tensorflow.keras.preprocessing.text import Tokenizer\n",
        "from tensorflow.keras.preprocessing.sequence import pad_sequences\n",
        "\n",
        "!wget --no-check-certificate \\\n",
        "    https://storage.googleapis.com/laurencemoroney-blog.appspot.com/bbc-text.csv \\\n",
        "    -O /tmp/bbc-text.csv"
      ],
      "execution_count": 8,
      "outputs": [
        {
          "output_type": "stream",
          "text": [
            "--2019-07-19 11:39:12--  https://storage.googleapis.com/laurencemoroney-blog.appspot.com/bbc-text.csv\n",
            "Resolving storage.googleapis.com (storage.googleapis.com)... 74.125.141.128, 2607:f8b0:400c:c06::80\n",
            "Connecting to storage.googleapis.com (storage.googleapis.com)|74.125.141.128|:443... connected.\n",
            "HTTP request sent, awaiting response... 200 OK\n",
            "Length: 5057493 (4.8M) [application/octet-stream]\n",
            "Saving to: ‘/tmp/bbc-text.csv’\n",
            "\n",
            "\r/tmp/bbc-text.csv     0%[                    ]       0  --.-KB/s               \r/tmp/bbc-text.csv   100%[===================>]   4.82M  --.-KB/s    in 0.02s   \n",
            "\n",
            "2019-07-19 11:39:13 (198 MB/s) - ‘/tmp/bbc-text.csv’ saved [5057493/5057493]\n",
            "\n"
          ],
          "name": "stdout"
        }
      ]
    },
    {
      "cell_type": "code",
      "metadata": {
        "id": "EYo6A4v5ZABQ",
        "colab_type": "code",
        "colab": {}
      },
      "source": [
        "vocab_size = 10000\n",
        "embedding_dim = 16\n",
        "max_length = 150\n",
        "trunc_type = 'post'\n",
        "padding_type = 'post'\n",
        "oov_tok = '<OOV>'\n",
        "training_portion = .8"
      ],
      "execution_count": 0,
      "outputs": []
    },
    {
      "cell_type": "code",
      "metadata": {
        "id": "iU1qq3_SZBx_",
        "colab_type": "code",
        "colab": {
          "base_uri": "https://localhost:8080/",
          "height": 34
        },
        "outputId": "f51f6eb2-fdc8-44e7-c9a4-e4767fb52244"
      },
      "source": [
        "sentences = []\n",
        "labels = []\n",
        "stopwords = [ \"a\", \"about\", \"above\", \"after\", \"again\", \"against\", \"all\", \"am\", \"an\", \"and\", \"any\", \"are\", \"as\", \"at\", \"be\", \"because\", \"been\", \"before\", \"being\", \"below\", \"between\", \"both\", \"but\", \"by\", \"could\", \"did\", \"do\", \"does\", \"doing\", \"down\", \"during\", \"each\", \"few\", \"for\", \"from\", \"further\", \"had\", \"has\", \"have\", \"having\", \"he\", \"he'd\", \"he'll\", \"he's\", \"her\", \"here\", \"here's\", \"hers\", \"herself\", \"him\", \"himself\", \"his\", \"how\", \"how's\", \"i\", \"i'd\", \"i'll\", \"i'm\", \"i've\", \"if\", \"in\", \"into\", \"is\", \"it\", \"it's\", \"its\", \"itself\", \"let's\", \"me\", \"more\", \"most\", \"my\", \"myself\", \"nor\", \"of\", \"on\", \"once\", \"only\", \"or\", \"other\", \"ought\", \"our\", \"ours\", \"ourselves\", \"out\", \"over\", \"own\", \"same\", \"she\", \"she'd\", \"she'll\", \"she's\", \"should\", \"so\", \"some\", \"such\", \"than\", \"that\", \"that's\", \"the\", \"their\", \"theirs\", \"them\", \"themselves\", \"then\", \"there\", \"there's\", \"these\", \"they\", \"they'd\", \"they'll\", \"they're\", \"they've\", \"this\", \"those\", \"through\", \"to\", \"too\", \"under\", \"until\", \"up\", \"very\", \"was\", \"we\", \"we'd\", \"we'll\", \"we're\", \"we've\", \"were\", \"what\", \"what's\", \"when\", \"when's\", \"where\", \"where's\", \"which\", \"while\", \"who\", \"who's\", \"whom\", \"why\", \"why's\", \"with\", \"would\", \"you\", \"you'd\", \"you'll\", \"you're\", \"you've\", \"your\", \"yours\", \"yourself\", \"yourselves\" ]\n",
        "print(len(stopwords))\n",
        "# Expected Output\n",
        "# 153"
      ],
      "execution_count": 10,
      "outputs": [
        {
          "output_type": "stream",
          "text": [
            "153\n"
          ],
          "name": "stdout"
        }
      ]
    },
    {
      "cell_type": "code",
      "metadata": {
        "id": "eutB2xMiZD0e",
        "colab_type": "code",
        "colab": {
          "base_uri": "https://localhost:8080/",
          "height": 88
        },
        "outputId": "5d6cec2a-4cb9-41e0-f46e-02442e5cacdb"
      },
      "source": [
        "with open(\"/tmp/bbc-text.csv\", 'r') as csvfile:\n",
        "  csvreader = csv.reader(csvfile) \n",
        "  #fields = csvreader.next() \n",
        "  for row in csvreader:\n",
        "    sentences.append(row[1])\n",
        "    labels.append(row[0])\n",
        "labels = labels[1:]\n",
        "sentences = sentences[1:]\n",
        "print(len(labels))\n",
        "print(len(sentences))\n",
        "print(sentences[0])\n",
        "# Expected Output\n",
        "# 2225\n",
        "# 2225\n",
        "# tv future hands viewers home theatre systems  plasma high-definition tvs  digital video recorders moving living room  way people watch tv will radically different five years  time.  according expert panel gathered annual consumer electronics show las vegas discuss new technologies will impact one favourite pastimes. us leading trend  programmes content will delivered viewers via home networks  cable  satellite  telecoms companies  broadband service providers front rooms portable devices.  one talked-about technologies ces digital personal video recorders (dvr pvr). set-top boxes  like us s tivo uk s sky+ system  allow people record  store  play  pause forward wind tv programmes want.  essentially  technology allows much personalised tv. also built-in high-definition tv sets  big business japan us  slower take off europe lack high-definition programming. not can people forward wind adverts  can also forget abiding network channel schedules  putting together a-la-carte entertainment. us networks cable satellite companies worried means terms advertising revenues well  brand identity  viewer loyalty channels. although us leads technology moment  also concern raised europe  particularly growing uptake services like sky+.  happens today  will see nine months years  time uk   adam hume  bbc broadcast s futurologist told bbc news website. likes bbc  no issues lost advertising revenue yet. pressing issue moment commercial uk broadcasters  brand loyalty important everyone.  will talking content brands rather network brands   said tim hanlon  brand communications firm starcom mediavest.  reality broadband connections  anybody can producer content.  added:  challenge now hard promote programme much choice.   means  said stacey jolna  senior vice president tv guide tv group  way people find content want watch simplified tv viewers. means networks  us terms  channels take leaf google s book search engine future  instead scheduler help people find want watch. kind channel model might work younger ipod generation used taking control gadgets play them. might not suit everyone  panel recognised. older generations comfortable familiar schedules channel brands know getting. perhaps not want much choice put hands  mr hanlon suggested.  end  kids just diapers pushing buttons already - everything possible available   said mr hanlon.  ultimately  consumer will tell market want.   50 000 new gadgets technologies showcased ces  many enhancing tv-watching experience. high-definition tv sets everywhere many new models lcd (liquid crystal display) tvs launched dvr capability built  instead external boxes. one example launched show humax s 26-inch lcd tv 80-hour tivo dvr dvd recorder. one us s biggest satellite tv companies  directtv  even launched branded dvr show 100-hours recording capability  instant replay  search function. set can pause rewind tv 90 hours. microsoft chief bill gates announced pre-show keynote speech partnership tivo  called tivotogo  means people can play recorded programmes windows pcs mobile devices. reflect increasing trend freeing multimedia people can watch want  want."
      ],
      "execution_count": 11,
      "outputs": [
        {
          "output_type": "stream",
          "text": [
            "2225\n",
            "2225\n",
            "tv future in the hands of viewers with home theatre systems  plasma high-definition tvs  and digital video recorders moving into the living room  the way people watch tv will be radically different in five years  time.  that is according to an expert panel which gathered at the annual consumer electronics show in las vegas to discuss how these new technologies will impact one of our favourite pastimes. with the us leading the trend  programmes and other content will be delivered to viewers via home networks  through cable  satellite  telecoms companies  and broadband service providers to front rooms and portable devices.  one of the most talked-about technologies of ces has been digital and personal video recorders (dvr and pvr). these set-top boxes  like the us s tivo and the uk s sky+ system  allow people to record  store  play  pause and forward wind tv programmes when they want.  essentially  the technology allows for much more personalised tv. they are also being built-in to high-definition tv sets  which are big business in japan and the us  but slower to take off in europe because of the lack of high-definition programming. not only can people forward wind through adverts  they can also forget about abiding by network and channel schedules  putting together their own a-la-carte entertainment. but some us networks and cable and satellite companies are worried about what it means for them in terms of advertising revenues as well as  brand identity  and viewer loyalty to channels. although the us leads in this technology at the moment  it is also a concern that is being raised in europe  particularly with the growing uptake of services like sky+.  what happens here today  we will see in nine months to a years  time in the uk   adam hume  the bbc broadcast s futurologist told the bbc news website. for the likes of the bbc  there are no issues of lost advertising revenue yet. it is a more pressing issue at the moment for commercial uk broadcasters  but brand loyalty is important for everyone.  we will be talking more about content brands rather than network brands   said tim hanlon  from brand communications firm starcom mediavest.  the reality is that with broadband connections  anybody can be the producer of content.  he added:  the challenge now is that it is hard to promote a programme with so much choice.   what this means  said stacey jolna  senior vice president of tv guide tv group  is that the way people find the content they want to watch has to be simplified for tv viewers. it means that networks  in us terms  or channels could take a leaf out of google s book and be the search engine of the future  instead of the scheduler to help people find what they want to watch. this kind of channel model might work for the younger ipod generation which is used to taking control of their gadgets and what they play on them. but it might not suit everyone  the panel recognised. older generations are more comfortable with familiar schedules and channel brands because they know what they are getting. they perhaps do not want so much of the choice put into their hands  mr hanlon suggested.  on the other end  you have the kids just out of diapers who are pushing buttons already - everything is possible and available to them   said mr hanlon.  ultimately  the consumer will tell the market they want.   of the 50 000 new gadgets and technologies being showcased at ces  many of them are about enhancing the tv-watching experience. high-definition tv sets are everywhere and many new models of lcd (liquid crystal display) tvs have been launched with dvr capability built into them  instead of being external boxes. one such example launched at the show is humax s 26-inch lcd tv with an 80-hour tivo dvr and dvd recorder. one of the us s biggest satellite tv companies  directtv  has even launched its own branded dvr at the show with 100-hours of recording capability  instant replay  and a search function. the set can pause and rewind tv for up to 90 hours. and microsoft chief bill gates announced in his pre-show keynote speech a partnership with tivo  called tivotogo  which means people can play recorded programmes on windows pcs and mobile devices. all these reflect the increasing trend of freeing up multimedia so that people can watch what they want  when they want.\n"
          ],
          "name": "stdout"
        }
      ]
    },
    {
      "cell_type": "code",
      "metadata": {
        "id": "XfdaWh06ZGe3",
        "colab_type": "code",
        "colab": {
          "base_uri": "https://localhost:8080/",
          "height": 102
        },
        "outputId": "52892f4b-e6d0-4647-c885-3fa9ec7a5252"
      },
      "source": [
        "train_size = int(len(sentences) * training_portion)\n",
        "\n",
        "train_sentences = sentences[0:train_size]\n",
        "train_labels = labels[0:train_size]\n",
        "\n",
        "validation_sentences = sentences[train_size:]\n",
        "validation_labels = labels[train_size:]\n",
        "\n",
        "print(train_size)\n",
        "print(len(train_sentences))\n",
        "print(len(train_labels))\n",
        "print(len(validation_sentences))\n",
        "print(len(validation_labels))\n",
        "\n",
        "# Expected output (if training_portion=.8)\n",
        "# 1780\n",
        "# 1780\n",
        "# 1780\n",
        "# 445\n",
        "# 445"
      ],
      "execution_count": 12,
      "outputs": [
        {
          "output_type": "stream",
          "text": [
            "1780\n",
            "1780\n",
            "1780\n",
            "445\n",
            "445\n"
          ],
          "name": "stdout"
        }
      ]
    },
    {
      "cell_type": "code",
      "metadata": {
        "id": "ULzA8xhwZI22",
        "colab_type": "code",
        "colab": {
          "base_uri": "https://localhost:8080/",
          "height": 119
        },
        "outputId": "bc739966-22ac-4bac-fc2c-94723fd97a4b"
      },
      "source": [
        "tokenizer = Tokenizer(num_words=vocab_size, oov_token=oov_tok)\n",
        "tokenizer.fit_on_texts(train_sentences)\n",
        "word_index = tokenizer.word_index\n",
        "\n",
        "train_sequences = tokenizer.texts_to_sequences(train_sentences)\n",
        "train_padded = pad_sequences(train_sequences, maxlen=max_length, padding=padding_type, truncating=trunc_type)\n",
        "\n",
        "print(len(train_sequences[0]))\n",
        "print(len(train_padded[0]))\n",
        "\n",
        "print(len(train_sequences[1]))\n",
        "print(len(train_padded[1]))\n",
        "\n",
        "print(len(train_sequences[10]))\n",
        "print(len(train_padded[10]))\n",
        "\n",
        "# Expected Ouput\n",
        "# 449\n",
        "# 120\n",
        "# 200\n",
        "# 120\n",
        "# 192\n",
        "# 120"
      ],
      "execution_count": 13,
      "outputs": [
        {
          "output_type": "stream",
          "text": [
            "750\n",
            "150\n",
            "300\n",
            "150\n",
            "311\n",
            "150\n"
          ],
          "name": "stdout"
        }
      ]
    },
    {
      "cell_type": "code",
      "metadata": {
        "id": "c8PeFWzPZLW_",
        "colab_type": "code",
        "colab": {
          "base_uri": "https://localhost:8080/",
          "height": 51
        },
        "outputId": "96494777-c86a-4eb0-8905-1d5be6d58267"
      },
      "source": [
        "validation_sequences = tokenizer.texts_to_sequences(validation_sentences)\n",
        "validation_padded = pad_sequences(validation_sequences, maxlen=max_length, padding=padding_type, truncating=trunc_type)\n",
        "\n",
        "print(len(validation_sequences))\n",
        "print(validation_padded.shape)\n",
        "\n",
        "# Expected output\n",
        "# 445\n",
        "# (445, 120)"
      ],
      "execution_count": 14,
      "outputs": [
        {
          "output_type": "stream",
          "text": [
            "445\n",
            "(445, 150)\n"
          ],
          "name": "stdout"
        }
      ]
    },
    {
      "cell_type": "code",
      "metadata": {
        "id": "XkWiQ_FKZNp2",
        "colab_type": "code",
        "colab": {
          "base_uri": "https://localhost:8080/",
          "height": 153
        },
        "outputId": "0b5f4e7d-54b7-49a7-feb9-248c70d53509"
      },
      "source": [
        "label_tokenizer = Tokenizer()\n",
        "label_tokenizer.fit_on_texts(train_labels)\n",
        "\n",
        "training_label_seq = np.array(label_tokenizer.texts_to_sequences(train_labels))\n",
        "validation_label_seq = np.array(label_tokenizer.texts_to_sequences(validation_labels))\n",
        "\n",
        "print(training_label_seq[0])\n",
        "print(training_label_seq[1])\n",
        "print(training_label_seq[2])\n",
        "print(training_label_seq.shape)\n",
        "\n",
        "print(validation_label_seq[0])\n",
        "print(validation_label_seq[1])\n",
        "print(validation_label_seq[2])\n",
        "print(validation_label_seq.shape)\n",
        "\n",
        "# Expected output\n",
        "# [4]\n",
        "# [2]\n",
        "# [1]\n",
        "# (1780, 1)\n",
        "# [5]\n",
        "# [4]\n",
        "# [3]\n",
        "# (445, 1)"
      ],
      "execution_count": 19,
      "outputs": [
        {
          "output_type": "stream",
          "text": [
            "[5]\n",
            "[2]\n",
            "[1]\n",
            "(1780, 1)\n",
            "[4]\n",
            "[5]\n",
            "[3]\n",
            "(445, 1)\n"
          ],
          "name": "stdout"
        }
      ]
    },
    {
      "cell_type": "code",
      "metadata": {
        "id": "HZ5um4MWZP-W",
        "colab_type": "code",
        "colab": {
          "base_uri": "https://localhost:8080/",
          "height": 428
        },
        "outputId": "bf7bf3a0-4581-4fa7-ff48-c966603d8853"
      },
      "source": [
        "model = tf.keras.Sequential([\n",
        "    tf.keras.layers.Embedding(vocab_size, embedding_dim, input_length=max_length),\n",
        "    tf.keras.layers.GlobalAveragePooling1D(),\n",
        "    tf.keras.layers.Dense(24, activation='relu'),\n",
        "    tf.keras.layers.Dense(6, activation='sigmoid'),\n",
        "])\n",
        "model.compile(loss='sparse_categorical_crossentropy',optimizer='adam',metrics=['accuracy'])\n",
        "model.summary()\n",
        "\n",
        "# Expected Output\n",
        "# Layer (type)                 Output Shape              Param #   \n",
        "# =================================================================\n",
        "# embedding (Embedding)        (None, 120, 16)           16000     \n",
        "# _________________________________________________________________\n",
        "# global_average_pooling1d (Gl (None, 16)                0         \n",
        "# _________________________________________________________________\n",
        "# dense (Dense)                (None, 24)                408       \n",
        "# _________________________________________________________________\n",
        "# dense_1 (Dense)              (None, 6)                 150       \n",
        "# =================================================================\n",
        "# Total params: 16,558\n",
        "# Trainable params: 16,558\n",
        "# Non-trainable params: 0"
      ],
      "execution_count": 20,
      "outputs": [
        {
          "output_type": "stream",
          "text": [
            "WARNING: Logging before flag parsing goes to stderr.\n",
            "W0719 11:41:05.980483 139992955934592 deprecation.py:506] From /usr/local/lib/python3.6/dist-packages/tensorflow/python/keras/initializers.py:119: calling RandomUniform.__init__ (from tensorflow.python.ops.init_ops) with dtype is deprecated and will be removed in a future version.\n",
            "Instructions for updating:\n",
            "Call initializer instance with the dtype argument instead of passing it to the constructor\n",
            "W0719 11:41:05.985642 139992955934592 deprecation.py:506] From /usr/local/lib/python3.6/dist-packages/tensorflow/python/ops/init_ops.py:1251: calling VarianceScaling.__init__ (from tensorflow.python.ops.init_ops) with dtype is deprecated and will be removed in a future version.\n",
            "Instructions for updating:\n",
            "Call initializer instance with the dtype argument instead of passing it to the constructor\n"
          ],
          "name": "stderr"
        },
        {
          "output_type": "stream",
          "text": [
            "Model: \"sequential\"\n",
            "_________________________________________________________________\n",
            "Layer (type)                 Output Shape              Param #   \n",
            "=================================================================\n",
            "embedding (Embedding)        (None, 150, 16)           160000    \n",
            "_________________________________________________________________\n",
            "global_average_pooling1d (Gl (None, 16)                0         \n",
            "_________________________________________________________________\n",
            "dense (Dense)                (None, 24)                408       \n",
            "_________________________________________________________________\n",
            "dense_1 (Dense)              (None, 6)                 150       \n",
            "=================================================================\n",
            "Total params: 160,558\n",
            "Trainable params: 160,558\n",
            "Non-trainable params: 0\n",
            "_________________________________________________________________\n"
          ],
          "name": "stdout"
        }
      ]
    },
    {
      "cell_type": "code",
      "metadata": {
        "id": "XsfdxySKZSXu",
        "colab_type": "code",
        "colab": {
          "base_uri": "https://localhost:8080/",
          "height": 1000
        },
        "outputId": "b066dcec-9304-460d-da9d-25b206899929"
      },
      "source": [
        "num_epochs = 30\n",
        "history = model.fit(train_padded, training_label_seq, epochs=num_epochs, validation_data=(validation_padded, validation_label_seq))"
      ],
      "execution_count": 22,
      "outputs": [
        {
          "output_type": "stream",
          "text": [
            "W0719 11:41:22.367497 139992955934592 deprecation.py:323] From /usr/local/lib/python3.6/dist-packages/tensorflow/python/ops/math_grad.py:1250: add_dispatch_support.<locals>.wrapper (from tensorflow.python.ops.array_ops) is deprecated and will be removed in a future version.\n",
            "Instructions for updating:\n",
            "Use tf.where in 2.0, which has the same broadcast rule as np.where\n"
          ],
          "name": "stderr"
        },
        {
          "output_type": "stream",
          "text": [
            "Train on 1780 samples, validate on 445 samples\n",
            "Epoch 1/30\n",
            "1780/1780 [==============================] - 1s 597us/sample - loss: 1.7690 - acc: 0.3028 - val_loss: 1.7391 - val_acc: 0.3101\n",
            "Epoch 2/30\n",
            "1780/1780 [==============================] - 0s 103us/sample - loss: 1.6958 - acc: 0.2646 - val_loss: 1.6497 - val_acc: 0.3146\n",
            "Epoch 3/30\n",
            "1780/1780 [==============================] - 0s 99us/sample - loss: 1.6035 - acc: 0.4000 - val_loss: 1.5684 - val_acc: 0.4315\n",
            "Epoch 4/30\n",
            "1780/1780 [==============================] - 0s 107us/sample - loss: 1.5162 - acc: 0.4461 - val_loss: 1.4791 - val_acc: 0.4472\n",
            "Epoch 5/30\n",
            "1780/1780 [==============================] - 0s 105us/sample - loss: 1.3888 - acc: 0.4787 - val_loss: 1.3296 - val_acc: 0.4899\n",
            "Epoch 6/30\n",
            "1780/1780 [==============================] - 0s 108us/sample - loss: 1.1991 - acc: 0.5815 - val_loss: 1.1328 - val_acc: 0.6315\n",
            "Epoch 7/30\n",
            "1780/1780 [==============================] - 0s 107us/sample - loss: 0.9772 - acc: 0.7478 - val_loss: 0.9253 - val_acc: 0.7685\n",
            "Epoch 8/30\n",
            "1780/1780 [==============================] - 0s 100us/sample - loss: 0.7559 - acc: 0.8669 - val_loss: 0.7445 - val_acc: 0.8809\n",
            "Epoch 9/30\n",
            "1780/1780 [==============================] - 0s 109us/sample - loss: 0.5647 - acc: 0.9494 - val_loss: 0.5914 - val_acc: 0.8876\n",
            "Epoch 10/30\n",
            "1780/1780 [==============================] - 0s 104us/sample - loss: 0.4182 - acc: 0.9635 - val_loss: 0.4895 - val_acc: 0.9124\n",
            "Epoch 11/30\n",
            "1780/1780 [==============================] - 0s 103us/sample - loss: 0.3113 - acc: 0.9803 - val_loss: 0.4039 - val_acc: 0.9169\n",
            "Epoch 12/30\n",
            "1780/1780 [==============================] - 0s 97us/sample - loss: 0.2317 - acc: 0.9854 - val_loss: 0.3501 - val_acc: 0.9258\n",
            "Epoch 13/30\n",
            "1780/1780 [==============================] - 0s 105us/sample - loss: 0.1758 - acc: 0.9893 - val_loss: 0.3116 - val_acc: 0.9258\n",
            "Epoch 14/30\n",
            "1780/1780 [==============================] - 0s 97us/sample - loss: 0.1359 - acc: 0.9921 - val_loss: 0.2802 - val_acc: 0.9303\n",
            "Epoch 15/30\n",
            "1780/1780 [==============================] - 0s 105us/sample - loss: 0.1064 - acc: 0.9955 - val_loss: 0.2535 - val_acc: 0.9416\n",
            "Epoch 16/30\n",
            "1780/1780 [==============================] - 0s 97us/sample - loss: 0.0854 - acc: 0.9972 - val_loss: 0.2405 - val_acc: 0.9326\n",
            "Epoch 17/30\n",
            "1780/1780 [==============================] - 0s 106us/sample - loss: 0.0679 - acc: 0.9983 - val_loss: 0.2284 - val_acc: 0.9326\n",
            "Epoch 18/30\n",
            "1780/1780 [==============================] - 0s 98us/sample - loss: 0.0552 - acc: 0.9989 - val_loss: 0.2199 - val_acc: 0.9303\n",
            "Epoch 19/30\n",
            "1780/1780 [==============================] - 0s 104us/sample - loss: 0.0451 - acc: 0.9989 - val_loss: 0.2049 - val_acc: 0.9461\n",
            "Epoch 20/30\n",
            "1780/1780 [==============================] - 0s 106us/sample - loss: 0.0374 - acc: 0.9989 - val_loss: 0.1975 - val_acc: 0.9371\n",
            "Epoch 21/30\n",
            "1780/1780 [==============================] - 0s 98us/sample - loss: 0.0318 - acc: 0.9989 - val_loss: 0.1903 - val_acc: 0.9438\n",
            "Epoch 22/30\n",
            "1780/1780 [==============================] - 0s 98us/sample - loss: 0.0270 - acc: 0.9989 - val_loss: 0.1899 - val_acc: 0.9371\n",
            "Epoch 23/30\n",
            "1780/1780 [==============================] - 0s 96us/sample - loss: 0.0232 - acc: 0.9994 - val_loss: 0.1857 - val_acc: 0.9371\n",
            "Epoch 24/30\n",
            "1780/1780 [==============================] - 0s 100us/sample - loss: 0.0201 - acc: 0.9994 - val_loss: 0.1825 - val_acc: 0.9393\n",
            "Epoch 25/30\n",
            "1780/1780 [==============================] - 0s 96us/sample - loss: 0.0175 - acc: 1.0000 - val_loss: 0.1770 - val_acc: 0.9461\n",
            "Epoch 26/30\n",
            "1780/1780 [==============================] - 0s 102us/sample - loss: 0.0154 - acc: 1.0000 - val_loss: 0.1749 - val_acc: 0.9438\n",
            "Epoch 27/30\n",
            "1780/1780 [==============================] - 0s 98us/sample - loss: 0.0136 - acc: 1.0000 - val_loss: 0.1760 - val_acc: 0.9416\n",
            "Epoch 28/30\n",
            "1780/1780 [==============================] - 0s 98us/sample - loss: 0.0121 - acc: 1.0000 - val_loss: 0.1711 - val_acc: 0.9438\n",
            "Epoch 29/30\n",
            "1780/1780 [==============================] - 0s 96us/sample - loss: 0.0108 - acc: 1.0000 - val_loss: 0.1710 - val_acc: 0.9438\n",
            "Epoch 30/30\n",
            "1780/1780 [==============================] - 0s 105us/sample - loss: 0.0097 - acc: 1.0000 - val_loss: 0.1688 - val_acc: 0.9438\n"
          ],
          "name": "stdout"
        }
      ]
    },
    {
      "cell_type": "code",
      "metadata": {
        "id": "dQ0BX2apXS9u",
        "colab_type": "code",
        "colab": {
          "base_uri": "https://localhost:8080/",
          "height": 549
        },
        "outputId": "9c8b4155-9e59-4a8b-c81d-923163b3938a"
      },
      "source": [
        "import matplotlib.pyplot as plt\n",
        "\n",
        "\n",
        "def plot_graphs(history, string):\n",
        "  plt.plot(history.history[string])\n",
        "  plt.plot(history.history['val_'+string])\n",
        "  plt.xlabel(\"Epochs\")\n",
        "  plt.ylabel(string)\n",
        "  plt.legend([string, 'val_'+string])\n",
        "  plt.show()\n",
        "  \n",
        "plot_graphs(history, \"acc\")\n",
        "plot_graphs(history, \"loss\")"
      ],
      "execution_count": 23,
      "outputs": [
        {
          "output_type": "display_data",
          "data": {
            "image/png": "[encoded data removed]",
            "text/plain": [
              "<Figure size 432x288 with 1 Axes>"
            ]
          },
          "metadata": {
            "tags": []
          }
        },
        {
          "output_type": "display_data",
          "data": {
            "image/png": "[encoded data removed]",
            "text/plain": [
              "<Figure size 432x288 with 1 Axes>"
            ]
          },
          "metadata": {
            "tags": []
          }
        }
      ]
    },
    {
      "cell_type": "code",
      "metadata": {
        "id": "w7Xc-uWxXhML",
        "colab_type": "code",
        "colab": {}
      },
      "source": [
        "reverse_word_index = dict([(value, key) for (key, value) in word_index.items()])\n",
        "\n",
        "def decode_sentence(text):\n",
        "    return ' '.join([reverse_word_index.get(i, '?') for i in text])\n"
      ],
      "execution_count": 0,
      "outputs": []
    },
    {
      "cell_type": "code",
      "metadata": {
        "id": "OhnFA_TDXrih",
        "colab_type": "code",
        "colab": {}
      },
      "source": [
        "e = model.layers[0]\n",
        "weights = e.get_weights()[0]\n",
        "print(weights.shape) # shape: (vocab_size, embedding_dim)\n",
        "\n",
        "# Expected output\n",
        "# (1000, 16)"
      ],
      "execution_count": 0,
      "outputs": []
    },
    {
      "cell_type": "code",
      "metadata": {
        "id": "_POzcWWAXudL",
        "colab_type": "code",
        "colab": {}
      },
      "source": [
        "import io\n",
        "\n",
        "out_v = io.open('vecs.tsv', 'w', encoding='utf-8')\n",
        "out_m = io.open('meta.tsv', 'w', encoding='utf-8')\n",
        "for word_num in range(1, vocab_size):\n",
        "  word = reverse_word_index[word_num]\n",
        "  embeddings = weights[word_num]\n",
        "  out_m.write(word + \"\\n\")\n",
        "  out_v.write('\\t'.join([str(x) for x in embeddings]) + \"\\n\")\n",
        "out_v.close()\n",
        "out_m.close()"
      ],
      "execution_count": 0,
      "outputs": []
    },
    {
      "cell_type": "code",
      "metadata": {
        "id": "VmqpQMZ_XyOa",
        "colab_type": "code",
        "colab": {}
      },
      "source": [
        "try:\n",
        "  from google.colab import files\n",
        "except ImportError:\n",
        "  pass\n",
        "else:\n",
        "  files.download('vecs.tsv')\n",
        "  files.download('meta.tsv')"
      ],
      "execution_count": 0,
      "outputs": []
    }
  ]
}